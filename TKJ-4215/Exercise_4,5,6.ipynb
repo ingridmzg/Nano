{
 "cells": [
  {
   "attachments": {},
   "cell_type": "markdown",
   "metadata": {},
   "source": [
    "## Python Exercise 4 - 6\n",
    "\n",
    "**Ingrid Gustavsen**\n",
    "\n",
    "Deadline: **30/03**"
   ]
  },
  {
   "attachments": {},
   "cell_type": "markdown",
   "metadata": {},
   "source": [
    "### Exercise 4: The Bragg_Williams approximation"
   ]
  },
  {
   "attachments": {},
   "cell_type": "markdown",
   "metadata": {},
   "source": [
    "**TASK 1 - Finding the exact density of states**\n",
    "\n",
    "- density_of_states.py and the density of states pngs\n",
    "- The variance decreases as the system size increases. This is because the number of microstates increases as the system size increases.\n",
    "- The program uses .. seconds to find all possible configurations for a system with 24 particles. \n",
    "- The multiplication of the number of microstates increases exponentially with the system size.\n",
    "- This is why it is not possible to use this method on larger systems."
   ]
  },
  {
   "cell_type": "code",
   "execution_count": 1,
   "metadata": {},
   "outputs": [],
   "source": [
    "import numpy as np\n",
    "from sympy.utilities.iterables import multiset_permutations\n",
    "import matplotlib.pyplot as plt\n",
    "import pickle\n",
    "import seaborn as sns\n",
    "import time"
   ]
  },
  {
   "cell_type": "code",
   "execution_count": 2,
   "metadata": {},
   "outputs": [],
   "source": [
    "def get_lattice_shape(n): \n",
    "    \"\"\"\n",
    "    Determines the lattice shapes that will be used in this exercise, given n particles.\n",
    "    \"\"\"\n",
    "    shapes = {4:(2,2), 6:(2,3), 8:(2,4), 12:(3,4), 16:(4,4), 20:(5,4), 24:(6,4)}\n",
    "    return shapes[n]"
   ]
  },
  {
   "cell_type": "code",
   "execution_count": 3,
   "metadata": {},
   "outputs": [],
   "source": [
    "def count_AB(lattice): \n",
    "    \"\"\"\n",
    "    Returns the number of AB-interactions, n_AB, for a provided lattice.\n",
    "    Uses periodic boundary conditions.\n",
    "    \"\"\"\n",
    "    n_AB = 0\n",
    "\n",
    "    for coord, particle in np.ndenumerate(lattice): # coord is the coordinate, particle is the value at that coordinate, ndenumerate gives both\n",
    "    \n",
    "        if particle == 'A': #Prevents double counting\n",
    "            # loop over the number of possible neighbours\n",
    "            for incr in [(1,0),(0,-1),(-1,0),(0,1)]: # neighbour increments\n",
    "                # The modulo operation ensures that periodic boundary conditions are employed\n",
    "                # neighbour needs to be a tuple\n",
    "                neighbour = np.array(coord) + np.array(incr) #add the coordinate to the increment\n",
    "                neighbour = tuple(np.mod(neighbour, get_lattice_shape(lattice.size))) # ADD your code\n",
    "                if lattice[neighbour] == 'B': #Checks if AB-interaction\n",
    "                    n_AB += 1 \n",
    "    return n_AB"
   ]
  },
  {
   "cell_type": "code",
   "execution_count": 4,
   "metadata": {},
   "outputs": [],
   "source": [
    "def create_arrays_and_count(n):  #takes the number of particles as input\n",
    "    \"\"\"\n",
    "    Given the number of molecules/lattice points, n, and returns a list with the number of AB interactions for all microstates, m_AB.\n",
    "    A condition is that the number of A and B molecules is equal.\n",
    "    \"\"\"\n",
    "    m_AB = [] # List to store the number of AB interactions for each microstate\n",
    "    for config in multiset_permutations(int(n/2)*'AB'): \n",
    "        lattice = np.reshape(np.array(config), get_lattice_shape(n)) # Here, convert config to a numpy array and convert to a lattice (using np.reshape and lattice_shape above) \n",
    "        m_AB.append(count_AB(lattice)) # Then count the number of AB interactions using the function count_A\n",
    "    return m_AB"
   ]
  },
  {
   "cell_type": "code",
   "execution_count": 5,
   "metadata": {},
   "outputs": [
    {
     "name": "stdout",
     "output_type": "stream",
     "text": [
      "Time elapsed for 4 particles: 0.0011 seconds\n",
      "[0 1]\n",
      "4 particles:\n",
      "Variance: 0.0556\n",
      "\n",
      "Time elapsed for 6 particles: 0.0030 seconds\n",
      "[0 1]\n",
      "6 particles:\n",
      "Variance: 0.0336\n",
      "\n",
      "Time elapsed for 8 particles: 0.0072 seconds\n",
      "[0 1 2 3 4]\n",
      "8 particles:\n",
      "Variance: 0.0198\n",
      "\n",
      "Time elapsed for 12 particles: 0.1868 seconds\n",
      "[0 1 2 3 4 5 6]\n",
      "12 particles:\n",
      "Variance: 0.0116\n",
      "\n",
      "Time elapsed for 16 particles: 3.2157 seconds\n",
      "[0 1 2 3 4 5 6 7 8 9]\n",
      "16 particles:\n",
      "Variance: 0.0063\n",
      "\n",
      "Time elapsed for 20 particles: 48.4887 seconds\n",
      "[ 0  1  2  3  4  5  6  7  8  9 10 11 12 13]\n",
      "20 particles:\n",
      "Variance: 0.0068\n",
      "\n",
      "Time elapsed for 24 particles: 859.1947 seconds\n",
      "[ 0  1  2  3  4  5  6  7  8  9 10 11 12 13 14 15 16 17]\n",
      "24 particles:\n",
      "Variance: 0.0045\n",
      "\n"
     ]
    },
    {
     "data": {
      "text/plain": [
       "<Figure size 1000x600 with 0 Axes>"
      ]
     },
     "metadata": {},
     "output_type": "display_data"
    },
    {
     "data": {
      "text/plain": [
       "<Figure size 1000x600 with 0 Axes>"
      ]
     },
     "metadata": {},
     "output_type": "display_data"
    },
    {
     "data": {
      "text/plain": [
       "<Figure size 1000x600 with 0 Axes>"
      ]
     },
     "metadata": {},
     "output_type": "display_data"
    },
    {
     "data": {
      "text/plain": [
       "<Figure size 1000x600 with 0 Axes>"
      ]
     },
     "metadata": {},
     "output_type": "display_data"
    },
    {
     "data": {
      "text/plain": [
       "<Figure size 1000x600 with 0 Axes>"
      ]
     },
     "metadata": {},
     "output_type": "display_data"
    },
    {
     "data": {
      "text/plain": [
       "<Figure size 1000x600 with 0 Axes>"
      ]
     },
     "metadata": {},
     "output_type": "display_data"
    },
    {
     "data": {
      "text/plain": [
       "<Figure size 1000x600 with 0 Axes>"
      ]
     },
     "metadata": {},
     "output_type": "display_data"
    }
   ],
   "source": [
    "for i in [4, 6, 8, 12, 16, 20, 24]: # The system sizes, shorten the list while testing \n",
    "    \n",
    "    start = time.time() #Starts timer\n",
    "    m_AB = create_arrays_and_count(i)\n",
    "    end = time.time()\n",
    "    print('Time elapsed for %i particles: %6.4f seconds' % (i, end-start))\n",
    "\n",
    "    macrostates = sorted(list(set(m_AB))) # Sorts the macrostates list in ascending order \n",
    "    degeneracies = [m_AB.count(macrostate) for macrostate in macrostates] # Counts the number of times a certain number of bonds appear in m_AB \n",
    "    #Plots bar chart\n",
    "    y_pos = np.arange(len(macrostates))\n",
    "    print(y_pos)\n",
    "\n",
    "    plt.figure(figsize=(10, 6))\n",
    "    sns.barplot(x=y_pos, y=degeneracies) #plt.bar(y_pos, degeneracies)\n",
    "    plt.title('Density of states for %i particles' % i)\n",
    "    plt.xlabel(\"number of interactions AB\", rotation=0)\n",
    "    plt.ylabel(\"number of microstates\")\n",
    "    plt.xticks(y_pos, macrostates, fontsize=7, rotation=30)\n",
    "    plt.savefig('density_of_states' + str(i))\n",
    "    plt.clf()\n",
    "    #Calculates the variance of the microstate list. The variance decreases as system size increases because the system becomes more ordered.\n",
    "    normalization_factor = max(m_AB) # The interaction energies are normalized\n",
    "    normalized_mAB = [round(norm/normalization_factor, 2) for norm in m_AB] #Performs normalization\n",
    "    print('%i particles:\\nVariance: %6.4f\\n' % (i, np.var(normalized_mAB))) #Prints variance\n",
    "\n",
    "with open('m_AB.pkl', 'wb') as f: #Save microstate list along with system size for i = i_max (24 in this case)\n",
    "    pickle.dump([m_AB,i], f)"
   ]
  },
  {
   "attachments": {},
   "cell_type": "markdown",
   "metadata": {},
   "source": [
    "**TASK 2 - Determine the equilibrium degree of mixing**\n",
    "\n",
    "We define the degree of mixing as the number of AB-interactions. To find the equilibrium degree, plot the\n",
    "Helmholtz free energy in eq. 2 as a function of Ui for varying values of T ranging from 1-10. Consider only\n",
    "systems with 24 particles. \n",
    "\n",
    "- show helmholtz_free_energy.png\n",
    "- As the temperature increases, the equilibrium degree of mixing decreases.\n",
    "- What is the physical explanation?\n"
   ]
  },
  {
   "cell_type": "code",
   "execution_count": 8,
   "metadata": {},
   "outputs": [],
   "source": [
    "import numpy as np\n",
    "from math import factorial, sqrt, exp, log\n",
    "import matplotlib.pyplot as plt\n",
    "import pickle\n",
    "\n",
    "def calculate_F(m_AB):\n",
    "    \"\"\"\n",
    "    Plots the Helmholtz free energy as a function of the energy for different temperatures.\n",
    "    Given is a list of microstates, m_AB\n",
    "    \"\"\"\n",
    "    macrostates = sorted(list(set(m_AB))) # Get macrosteps. Sorts list in ascending order\n",
    "    degeneracies = [m_AB.count(macrostate) for macrostate in macrostates]\n",
    "    temperatures = np.linspace(0,4,10) # the temperature range \n",
    "    for temp in temperatures:\n",
    "        # Calculate a list with free energies. Use list comprehension. Hint: use zip(macrostates, degeneracies) as iterator\n",
    "        free_energies =  []\n",
    "\n",
    "        for m, w in zip(macrostates, degeneracies):\n",
    "            free_energies.append(-m - temp*log(w)) # W = microstates * degeneracies. U = -m, m = 24. T = temp. F = U - T*ln(W)\n",
    "        \n",
    "        plt.plot(macrostates, free_energies)\n",
    "        plt.xlabel(\"number of macrostates\", rotation=0)\n",
    "        plt.ylabel(\"free energy\")\n",
    "    plt.savefig('helmholtz_free_energy') #Saves plot as Helmholtz_free_energy.png\n",
    "    plt.close()\n",
    "\n",
    "with open('m_AB.pkl', 'rb') as f: # Loads microstate list\n",
    "    m_AB = pickle.load(f)[0]\n",
    "calculate_F(m_AB)\n"
   ]
  },
  {
   "attachments": {},
   "cell_type": "markdown",
   "metadata": {},
   "source": [
    "**TASK 3 - Comparing the exact and approximate partition functions**\n",
    "\n",
    "- Q: Partition function of temperature\n",
    "- The approximation is not very good at low temperatures, because the multilplicity is very small\n",
    "- As the temperature increases, the partition function increases. The exact partition function increases faster than the approximate partition function. The ratio of the exact and approximate partition function approaches 1 as the temperature increases."
   ]
  },
  {
   "cell_type": "code",
   "execution_count": null,
   "metadata": {},
   "outputs": [],
   "source": [
    "import numpy as np\n",
    "from math import factorial, sqrt, exp, log\n",
    "import sympy as sym\n",
    "import matplotlib.pyplot as plt\n",
    "import pickle\n",
    "\n",
    "def calculate_Q_exact(m_AB, temp_inv) -> float: #returns float\n",
    "    \"\"\"\n",
    "    Calculates the partition function as a sum of a list with Boltzmann factors.\n",
    "    Given is a list with AB-bonds, m_AB, providing the energy (a minus sign difference)\n",
    "    and the inverse of the temperature, temp_inv. The Boltzmann constant is here set to 1.\n",
    "    \"\"\"\n",
    "\n",
    "    macrostates = sorted(list(set(m_AB))) # Get macrosteps. Sorts list in ascending order\n",
    "\n",
    "    v: list = [exp(N*temp_inv) for N in macrostates]\n",
    "    return sum(v)\n",
    "\n",
    "def calculate_Q_approx(n, temp):\n",
    "    \"\"\"\n",
    "    Calculates the partition function using the Bragg-Williams approximation\n",
    "    Gives the number of particles, n, and the temperature, temp.\n",
    "    Get the multiplicity (not from Stirling's approximation!)\n",
    "    Returns ln Q\n",
    "    \"\"\"\n",
    "    multiplicity = factorial(n)/(factorial(n//2))**2\n",
    "    approx = n/temp + log(multiplicity)\n",
    "    return approx\n",
    "\n",
    "\n",
    "def partition_function_plot(m_AB, n) -> float:\n",
    "    \"\"\"\n",
    "    Generates plots with the partition function.\n",
    "    Given is a list with AB-bonds, m_AB, providing the energy (a minus sign difference)\n",
    "    and the number of particles, n.\n",
    "    \"\"\"\n",
    "    temps = np.linspace(1,10,100) #Temperature range to be plotted. High resolution\n",
    "    Q_exact_list = []\n",
    "    Q_approx_list = []\n",
    "    Q_ratio = []\n",
    "    #The for loop calculates and appends Q(T)\n",
    "    for temp in temps:\n",
    "        Q_exact = calculate_Q_exact(m_AB, 1.0/temp)\n",
    "        Q_approx = calculate_Q_approx(n, temp)\n",
    "        Q_exact_list.append(log(Q_exact))\n",
    "        Q_approx_list.append(Q_approx)\n",
    "        Q_ratio.append(log(Q_exact)/Q_approx)\n",
    "    #Makes and saves plots\n",
    "    plt.plot(temps, Q_exact_list)\n",
    "    plt.plot(temps, Q_approx_list)\n",
    "    plt.legend(['ln Q_exact', 'ln Q_approx'], loc='upper left')\n",
    "    plt.savefig('partition_function')\n",
    "    plt.close()\n",
    "    plt.plot(temps, Q_ratio)\n",
    "    plt.xlabel(\"Temperature\", rotation=0)\n",
    "    plt.ylabel(\"ln Q_exact/Q_approx\")\n",
    "    plt.legend(['Q_ratio'], loc='upper left')\n",
    "    plt.savefig('partition_function_ratio')\n",
    "    plt.close()\n",
    "\n",
    "with open('m_AB.pkl', 'rb') as f: #Opens microstate list\n",
    "    m_AB, n = pickle.load(f) #and creates variables m_AB (list) and N (system size)\n",
    "\n",
    "partition_function_plot(m_AB, n)\n"
   ]
  },
  {
   "attachments": {},
   "cell_type": "markdown",
   "metadata": {},
   "source": [
    "### Exercise 5: Kinetic Monte Carlo simulations\n",
    "\n",
    "- Start with NA = NB = 1000 and NC = 0. Let this simulation run for 10000 steps. Can you identify, just by looking at the plot output, at what time the system reached equilibrium?\n",
    "- Run the program again, but with different values for NA, NB, and NC . Let NA ̸= NB. Run these simulations until equilibrium is reached, instead of using a given number of steps. What did you use as an equilibrium condition? Why is this valid?\n",
    "- Lastly, change the parameter kf and kr relative to each other. How does this effect the result (refer to the relation between equilibrium constant and rate constants in eq. 19.5 in Dill)?"
   ]
  }
 ],
 "metadata": {
  "kernelspec": {
   "display_name": "Python 3",
   "language": "python",
   "name": "python3"
  },
  "language_info": {
   "codemirror_mode": {
    "name": "ipython",
    "version": 3
   },
   "file_extension": ".py",
   "mimetype": "text/x-python",
   "name": "python",
   "nbconvert_exporter": "python",
   "pygments_lexer": "ipython3",
   "version": "3.10.10 (tags/v3.10.10:aad5f6a, Feb  7 2023, 17:20:36) [MSC v.1929 64 bit (AMD64)]"
  },
  "orig_nbformat": 4,
  "vscode": {
   "interpreter": {
    "hash": "13cba90b1e69a9e92daecdbb2d70e7364983794182b9ca84ef17be7e2fdb018e"
   }
  }
 },
 "nbformat": 4,
 "nbformat_minor": 2
}
