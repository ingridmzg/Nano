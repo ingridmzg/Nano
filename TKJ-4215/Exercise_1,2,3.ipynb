{
 "cells": [
  {
   "attachments": {},
   "cell_type": "markdown",
   "metadata": {},
   "source": [
    "## Python Exercise 1 - 3.\n",
    "\n",
    "**Ingrid Gustavsen**\n",
    "\n",
    "Deadline: **16/02**"
   ]
  },
  {
   "attachments": {},
   "cell_type": "markdown",
   "metadata": {},
   "source": [
    "### Exercise 1: Introduction to Python\n",
    "\n",
    "**Task 5**"
   ]
  },
  {
   "cell_type": "code",
   "execution_count": 4,
   "metadata": {},
   "outputs": [
    {
     "name": "stdout",
     "output_type": "stream",
     "text": [
      "f_x_diff =  6*x\n",
      "g_x_diff =  1/x\n",
      "h_x_y_diff =  [3*x**2, 4*y]\n"
     ]
    }
   ],
   "source": [
    "#---------Task 5 - math module------------\n",
    "from sympy import log as log #log function imported from sympy. using log from sympy, as sympy can take the log of symbols, while math cannot\n",
    "from sympy import symbols #importing symbols from sympy (string containing symbol which can be assigned to a variable)\n",
    "x, y = symbols('x, y')\n",
    "\n",
    "f_x = 3*x**2\n",
    "g_x = log(x)\n",
    "h_x_y = x**3 + 2*y**2\n",
    "\n",
    "#Put the differentiations with respect to x and y in a list\n",
    "\n",
    "f_x_diff = f_x.diff(x)\n",
    "g_x_diff = g_x.diff(x)\n",
    "h_x_y_diff = [h_x_y.diff(x), h_x_y.diff(y)]\n",
    "\n",
    "print(\"f_x_diff = \", f_x_diff)\n",
    "print(\"g_x_diff = \", g_x_diff)\n",
    "print(\"h_x_y_diff = \", h_x_y_diff)"
   ]
  },
  {
   "attachments": {},
   "cell_type": "markdown",
   "metadata": {},
   "source": [
    "### Exercise 2: Principles of maximum entropy"
   ]
  },
  {
   "attachments": {},
   "cell_type": "markdown",
   "metadata": {},
   "source": [
    "**Task 1: 3**"
   ]
  },
  {
   "cell_type": "code",
   "execution_count": 5,
   "metadata": {},
   "outputs": [
    {
     "name": "stdout",
     "output_type": "stream",
     "text": [
      "Matrix([[3.00000000000000], [5.00000000000000], [-2.00000000000000]])\n"
     ]
    }
   ],
   "source": [
    "from sympy import symbols, diff, nsolve, Symbol\n",
    "\n",
    "x, y, l = symbols('x, y, l') # Defines the mathematical variable symbols to be used. l is the Lagrangian multiplier \n",
    "f = x**2 - 8*x + y**2 - 12*y + 48 # Insert function f to be maximised/minimised.\n",
    "g = x+y - 8  # Insert constraint function g in the form g(x,y) - constant\n",
    "\n",
    "def finding_equations(f, g):\n",
    "    # Given the function f and the constraint fucntion g, it returns a list of equations for which the system of equations is going to be solved.\n",
    "    equations = [] # here intitiate an empty list (the list of equations to be returned)\n",
    "\n",
    "    for s in f.atoms(Symbol): #f.atoms(Symbol) picks out the symbols that represent our variables in the function f, i.e. it loops over 'x' and 'y' in this example\n",
    "        equations.append(diff(f, s) - l * diff(g, s))  # for each s create the correct equation (using diff in sympy), f' + l g', and append to the list with equations. diff(f, s) is the derivative of f with respect to s\n",
    "    # append the constraint to the list of equations\n",
    "\n",
    "\n",
    "\n",
    "    equations.append(g) # g is the constraint function, i.e. g(x,y) - constant = 0\n",
    "    return equations # returns a list of equations (possibly with a different name), in this case with three items\n",
    "\n",
    "# nsolve takes a list of equations (determined by finding_equations(f,g) and solves for the given variables. \n",
    "# Takes at least three arguments: equations, symbols, starting estimate)\n",
    "result = nsolve(finding_equations(f, g), [x, y, l], [1,1,1]) \n",
    "print(result)"
   ]
  },
  {
   "attachments": {},
   "cell_type": "markdown",
   "metadata": {},
   "source": [
    "**Task 2**"
   ]
  },
  {
   "cell_type": "code",
   "execution_count": 5,
   "metadata": {},
   "outputs": [
    {
     "name": "stdout",
     "output_type": "stream",
     "text": [
      "Matrix([[0.100000000000000], [0.100000000000000], [0.100000000000000], [0.100000000000000], [0.100000000000000], [0.100000000000000], [0.100000000000000], [0.100000000000000], [0.100000000000000], [0.100000000000000], [-1.30258509299405]])\n"
     ]
    }
   ],
   "source": [
    "#n-sided dice is a probabilistic system with no physical constraints.\n",
    "#The task is to modify the program written above so that it fits the case of an n-sided dice.\n",
    "\n",
    "from sympy import log, diff, nsolve, Symbol\n",
    "\n",
    "#The task is to modify the program written above so that it fits the case of an n-sided dice. Make sure to write yout maximization and constraint functions (f and g) correctly, as well as keeping track of what variable are present. These must be updated throughout your code. Hint: define a list of variables as Variables = [p1, p2, p3, ...]\n",
    "\n",
    "n = 10 #number of sides on the dice\n",
    "\n",
    "def variables(n): #defines the variables p1, p2, p3, ..., pn\n",
    "\n",
    "    variables = []\n",
    "    \n",
    "    for i in range(1, n+1):\n",
    "        variables.append(Symbol('p'+str(i)))\n",
    "    return variables\n",
    "\n",
    "variables = variables(n)\n",
    "\n",
    "\n",
    "f = -sum([i*log(i) for i in variables])\n",
    "g = sum(variables) - 1\n",
    "\n",
    "variables.append(Symbol('l')) #adds the Lagrangian multiplier to the list of variables\n",
    "\n",
    "def finding_equations(f, g): #Given the function f and the constraint function g. Returns a list of equations.\n",
    "    equations = []\n",
    "    for s in f.atoms(Symbol):\n",
    "        equations.append(diff(f, s) + l * diff(g, s))\n",
    "    equations.append(g)\n",
    "    return equations\n",
    "\n",
    "result_2 = nsolve(finding_equations(f, g), variables, [1,1,1,1,1,1,1,1,1,1,1]) #nsolve takes a list of equations (determined by finding_equations(f,g) and solves for the given variables. Takes at least three arguments: equations, symbols, starting estimate)\n",
    "print(result_2)\n",
    "\n",
    "#The probability distribution is 1/n for each side of the dice."
   ]
  },
  {
   "attachments": {},
   "cell_type": "markdown",
   "metadata": {},
   "source": [
    "### Exercise 3: Stirling's approximation"
   ]
  },
  {
   "attachments": {},
   "cell_type": "markdown",
   "metadata": {},
   "source": [
    "**Task 2**\n",
    "\n",
    "File: judging_errors.py and output file stirling.txt\n",
    "\n",
    "Q: What happens with the error as n increases. Why does this make Stirling’s approximation useful for the systems that we study?\n",
    "\n",
    "- As n increases, the relative error decreases.\n",
    "\n",
    "- In this course we will be studing N, and as N is symbolizing big numbers, Stirling's approximation will help us calculating big numbers and their factorial by taking the logarithm of the numbers.\n"
   ]
  }
 ],
 "metadata": {
  "kernelspec": {
   "display_name": "Python 3",
   "language": "python",
   "name": "python3"
  },
  "language_info": {
   "codemirror_mode": {
    "name": "ipython",
    "version": 3
   },
   "file_extension": ".py",
   "mimetype": "text/x-python",
   "name": "python",
   "nbconvert_exporter": "python",
   "pygments_lexer": "ipython3",
   "version": "3.10.10 (tags/v3.10.10:aad5f6a, Feb  7 2023, 17:20:36) [MSC v.1929 64 bit (AMD64)]"
  },
  "orig_nbformat": 4,
  "vscode": {
   "interpreter": {
    "hash": "13cba90b1e69a9e92daecdbb2d70e7364983794182b9ca84ef17be7e2fdb018e"
   }
  }
 },
 "nbformat": 4,
 "nbformat_minor": 2
}
